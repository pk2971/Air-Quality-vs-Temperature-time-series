{
  "nbformat": 4,
  "nbformat_minor": 0,
  "metadata": {
    "colab": {
      "provenance": [],
      "mount_file_id": "18bzT8p3-uFJRqPCJ4Qe_QOt7mR7BJxBo",
      "authorship_tag": "ABX9TyPrtQC5FF6jKPHaeqeWYBjL",
      "include_colab_link": true
    },
    "kernelspec": {
      "name": "python3",
      "display_name": "Python 3"
    },
    "language_info": {
      "name": "python"
    }
  },
  "cells": [
    {
      "cell_type": "markdown",
      "metadata": {
        "id": "view-in-github",
        "colab_type": "text"
      },
      "source": [
        "<a href=\"https://colab.research.google.com/github/pk2971/Air-Quality-vs-Temperature-time-series/blob/main/notebooks/British_parliament_data_processing.ipynb\" target=\"_parent\"><img src=\"https://colab.research.google.com/assets/colab-badge.svg\" alt=\"Open In Colab\"/></a>"
      ]
    },
    {
      "cell_type": "code",
      "execution_count": 1,
      "metadata": {
        "id": "dgnT4IfJm48W",
        "colab": {
          "base_uri": "https://localhost:8080/"
        },
        "outputId": "8385907a-8d2a-4a97-ebcc-8a12a699f190"
      },
      "outputs": [
        {
          "output_type": "stream",
          "name": "stdout",
          "text": [
            "Mounted at /content/drive\n"
          ]
        }
      ],
      "source": [
        "from google.colab import drive\n",
        "drive.mount('/content/drive')"
      ]
    },
    {
      "cell_type": "code",
      "source": [
        "zip_path = '/content/drive/MyDrive/debates.zip'"
      ],
      "metadata": {
        "id": "zc3eCZu9nnDn"
      },
      "execution_count": 2,
      "outputs": []
    },
    {
      "cell_type": "code",
      "source": [],
      "metadata": {
        "id": "oznLyah1n0HX"
      },
      "execution_count": null,
      "outputs": []
    }
  ]
}